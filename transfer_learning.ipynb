{
  "nbformat": 4,
  "nbformat_minor": 0,
  "metadata": {
    "colab": {
      "provenance": []
    },
    "kernelspec": {
      "name": "python3",
      "display_name": "Python 3"
    },
    "language_info": {
      "name": "python"
    }
  },
  "cells": [
    {
      "cell_type": "code",
      "execution_count": 3,
      "metadata": {
        "colab": {
          "base_uri": "https://localhost:8080/"
        },
        "id": "G-jv2BUWRnuV",
        "outputId": "28090717-4f8e-4bb1-91a2-6aee71720016"
      },
      "outputs": [
        {
          "output_type": "stream",
          "name": "stdout",
          "text": [
            "Cloning into 'transfer-learning-neural-network-dio'...\n",
            "remote: Enumerating objects: 933, done.\u001b[K\n",
            "remote: Counting objects: 100% (3/3), done.\u001b[K\n",
            "remote: Compressing objects: 100% (3/3), done.\u001b[K\n",
            "remote: Total 933 (delta 0), reused 0 (delta 0), pack-reused 930 (from 2)\u001b[K\n",
            "Receiving objects: 100% (933/933), 160.19 MiB | 27.56 MiB/s, done.\n",
            "Resolving deltas: 100% (1/1), done.\n"
          ]
        }
      ],
      "source": [
        "!git clone https://github.com/abelhadev/transfer-learning-neural-network-dio"
      ]
    },
    {
      "cell_type": "code",
      "source": [
        "%matplotlib inline\n",
        "\n",
        "import os\n",
        "import random\n",
        "import numpy as np\n",
        "import keras\n",
        "import tensorflow as tf\n",
        "import matplotlib.pyplot as plt\n",
        "\n",
        "\n",
        "from matplotlib.pyplot import imshow\n",
        "from keras.preprocessing import image\n",
        "from keras.applications.imagenet_utils import preprocess_input\n",
        "from keras.models import Sequential\n",
        "from keras.layers import Dense, Dropout, Flatten, Activation\n",
        "from keras.layers import Conv2D, MaxPooling2D\n",
        "from keras.models import Model"
      ],
      "metadata": {
        "id": "PO7RDT_HRpGi"
      },
      "execution_count": 4,
      "outputs": []
    },
    {
      "cell_type": "code",
      "source": [
        "import tensorflow as tf\n",
        "\n",
        "def validate_image(file_path):\n",
        "    try:\n",
        "        img = tf.io.read_file(file_path)\n",
        "        img = tf.image.decode_image(img, channels=3)\n",
        "        return True\n",
        "    except:\n",
        "        return False\n",
        "\n",
        "dataset_path = '/content/transfer-learning-neural-network-dio/honeybee'\n",
        "valid_files = []\n",
        "\n",
        "for root, dirs, files in os.walk(dataset_path):\n",
        "    for file in files:\n",
        "        file_path = os.path.join(root, file)\n",
        "        if file.lower().endswith(('.jpg', '.jpeg', '.png', '.gif', '.bmp')) and validate_image(file_path):\n",
        "            valid_files.append(file_path)\n",
        "        else:\n",
        "            print(f\"Arquivo inválido: {file_path}\")"
      ],
      "metadata": {
        "id": "IAFwx-FCRr8w",
        "colab": {
          "base_uri": "https://localhost:8080/"
        },
        "outputId": "92acae9f-d60f-41ab-e50e-108635c21d2d"
      },
      "execution_count": 10,
      "outputs": [
        {
          "output_type": "stream",
          "name": "stdout",
          "text": [
            "Arquivo inválido: /content/transfer-learning-neural-network-dio/honeybee/valid/_classes.txt\n",
            "Arquivo inválido: /content/transfer-learning-neural-network-dio/honeybee/valid/_annotations.txt\n"
          ]
        }
      ]
    },
    {
      "cell_type": "code",
      "source": [
        "root = '/content/transfer-learning-neural-network-dio/honeybee'\n",
        "exclude = ['BACKGROUND_Google', 'Motorbikes', 'airplanes', 'Faces_easy', 'Faces']\n",
        "\n",
        "# Abaixo especifique a taxa de treino e validação\n",
        "# Exemplo 7% = 0.7 e 15% = 0.15\n",
        "train_split, val_split = 0.7, 0.15\n",
        "\n",
        "\n",
        "categories = [x[0] for x in os.walk(root) if x[0]][1:]\n",
        "categories = [c for c in categories if c not in [os.path.join(root, e) for e in exclude]]\n",
        "\n",
        "\n",
        "print(categories)"
      ],
      "metadata": {
        "id": "XFLhNuUARwk5",
        "colab": {
          "base_uri": "https://localhost:8080/"
        },
        "outputId": "cd3eb40d-7d80-499f-d238-86e5b74be573"
      },
      "execution_count": 12,
      "outputs": [
        {
          "output_type": "stream",
          "name": "stdout",
          "text": [
            "['/content/transfer-learning-neural-network-dio/honeybee/valid', '/content/transfer-learning-neural-network-dio/honeybee/train', '/content/transfer-learning-neural-network-dio/honeybee/test']\n"
          ]
        }
      ]
    }
  ]
}